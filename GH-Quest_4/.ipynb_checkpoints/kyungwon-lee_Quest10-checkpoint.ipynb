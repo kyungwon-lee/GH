{
 "cells": [
  {
   "cell_type": "markdown",
   "metadata": {},
   "source": [
    "### Quest10 \n",
    "#### Sklearn의 breast cancer 데이터의 mean radius, mean texture 변수를 사용해 종양을 분류하는 모델에 대한 평가와 성능 향상"
   ]
  },
  {
   "cell_type": "markdown",
   "metadata": {},
   "source": [
    "#### 1) 두 개 이상의 분류 모델의 AUC를 비교해 가장 좋은 모델 한 가지를 선택해주세요.(ROC, PR 곡선 중 데이터에 더 적합한 기준 선택)"
   ]
  },
  {
   "cell_type": "markdown",
   "metadata": {},
   "source": [
    "##### Logistic Regression (1)"
   ]
  },
  {
   "cell_type": "code",
   "execution_count": 1,
   "metadata": {},
   "outputs": [],
   "source": [
    "import numpy as np\n",
    "import pandas as pd\n",
    "import matplotlib.pyplot as plt"
   ]
  },
  {
   "cell_type": "code",
   "execution_count": 2,
   "metadata": {},
   "outputs": [],
   "source": [
    "from sklearn.datasets import load_breast_cancer\n",
    "from sklearn.datasets import make_classification\n",
    "from sklearn.linear_model import LogisticRegression\n",
    "from sklearn.metrics import classification_report"
   ]
  },
  {
   "cell_type": "code",
   "execution_count": 3,
   "metadata": {},
   "outputs": [
    {
     "name": "stdout",
     "output_type": "stream",
     "text": [
      "dict_keys(['data', 'target', 'target_names', 'DESCR', 'feature_names', 'filename'])\n",
      "[[1.799e+01 1.038e+01 1.228e+02 ... 2.654e-01 4.601e-01 1.189e-01]\n",
      " [2.057e+01 1.777e+01 1.329e+02 ... 1.860e-01 2.750e-01 8.902e-02]\n",
      " [1.969e+01 2.125e+01 1.300e+02 ... 2.430e-01 3.613e-01 8.758e-02]\n",
      " ...\n",
      " [1.660e+01 2.808e+01 1.083e+02 ... 1.418e-01 2.218e-01 7.820e-02]\n",
      " [2.060e+01 2.933e+01 1.401e+02 ... 2.650e-01 4.087e-01 1.240e-01]\n",
      " [7.760e+00 2.454e+01 4.792e+01 ... 0.000e+00 2.871e-01 7.039e-02]]\n"
     ]
    }
   ],
   "source": [
    "cancer = load_breast_cancer()\n",
    "print (cancer.keys())\n",
    "\n",
    "X = cancer['data']\n",
    "print (X)"
   ]
  },
  {
   "cell_type": "code",
   "execution_count": 4,
   "metadata": {},
   "outputs": [],
   "source": [
    "X_radius = X[:, 0].reshape(-1,1)\n",
    "X_texture = X[:, 1].reshape(-1,1)\n",
    "y = cancer['target']"
   ]
  },
  {
   "cell_type": "code",
   "execution_count": 5,
   "metadata": {},
   "outputs": [
    {
     "data": {
      "text/plain": [
       "array([[17.99, 10.38],\n",
       "       [20.57, 17.77],\n",
       "       [19.69, 21.25],\n",
       "       ...,\n",
       "       [16.6 , 28.08],\n",
       "       [20.6 , 29.33],\n",
       "       [ 7.76, 24.54]])"
      ]
     },
     "execution_count": 5,
     "metadata": {},
     "output_type": "execute_result"
    }
   ],
   "source": [
    "X_sum = np.hstack([X_radius, X_texture])\n",
    "y = (y==0).astype(np.int)\n",
    "X_sum"
   ]
  },
  {
   "cell_type": "code",
   "execution_count": 6,
   "metadata": {},
   "outputs": [
    {
     "name": "stderr",
     "output_type": "stream",
     "text": [
      "c:\\users\\kw375\\appdata\\local\\programs\\python\\python36\\lib\\site-packages\\sklearn\\linear_model\\logistic.py:432: FutureWarning: Default solver will be changed to 'lbfgs' in 0.22. Specify a solver to silence this warning.\n",
      "  FutureWarning)\n"
     ]
    }
   ],
   "source": [
    "model = LogisticRegression().fit(X_sum, y)\n",
    "\n",
    "y_score = model.decision_function(X_sum) \n",
    "y_pred = model.predict(X_sum)"
   ]
  },
  {
   "cell_type": "code",
   "execution_count": 7,
   "metadata": {},
   "outputs": [
    {
     "data": {
      "text/plain": [
       "array([ 9.65700616e-01,  2.66584695e+00,  2.40428097e+00, -1.83492790e+00,\n",
       "        2.34192212e+00, -1.56096810e+00,  1.60679942e+00, -6.49979747e-01,\n",
       "       -9.57445155e-01, -1.11346647e+00,  6.49085497e-01,  2.43586754e-01,\n",
       "        2.32895566e+00,  6.00557111e-01, -5.45411534e-01,  1.26807927e-01,\n",
       "       -1.95304815e-01,  5.69051414e-01,  2.51286778e+00, -1.07940234e+00,\n",
       "       -1.24101497e+00, -3.22759004e+00, -1.72071151e-01,  3.24455877e+00,\n",
       "        8.69836381e-01,  8.54090539e-01, -1.71737757e-01,  1.80364997e+00,\n",
       "        3.91721193e-01,  1.00049257e+00,  2.07161012e+00, -1.71110235e+00,\n",
       "        1.19536207e+00,  2.46825005e+00,  4.20513284e-01,  9.26608546e-01,\n",
       "       -3.28975005e-01, -1.12260228e+00,  2.30831519e-01, -7.67124855e-01,\n",
       "       -7.47088166e-01, -2.02176948e+00,  2.27878415e+00, -8.97175508e-01,\n",
       "       -8.71782237e-01,  1.68335004e+00, -3.65735523e+00, -1.03888763e+00,\n",
       "       -1.82053892e+00, -6.83541643e-01, -1.59782089e+00, -9.23662653e-01,\n",
       "       -1.68480303e+00,  1.52368567e+00,  1.17906850e-01, -1.87069630e+00,\n",
       "        2.01873913e+00, -1.02642188e-01, -1.06524798e+00, -3.71129189e+00,\n",
       "       -2.76047431e+00, -3.23390893e+00, -3.06163793e-01, -3.32008363e+00,\n",
       "       -1.01253193e+00,  5.75151471e-02, -2.79273105e+00, -1.96178621e+00,\n",
       "       -3.20901334e+00, -1.35174251e+00,  2.02719888e+00, -3.42320587e+00,\n",
       "        1.31527232e+00, -8.71716575e-01, -1.58845046e+00,  4.83989398e-01,\n",
       "       -1.26590125e+00,  1.30221647e+00,  2.79701498e+00, -1.23107641e+00,\n",
       "       -1.78841819e+00, -1.10123235e+00,  5.40226249e+00,  2.37250776e+00,\n",
       "       -1.79177960e+00,  1.63582161e+00, -2.26153217e-01,  2.24176229e+00,\n",
       "       -1.28299898e+00, -4.74996852e-01, -1.93641170e-02,  2.94058774e-01,\n",
       "       -1.19507802e+00, -9.16019774e-01, -1.85519896e-02,  2.78771022e+00,\n",
       "       -1.58433795e+00, -2.68623337e+00, -2.14365625e+00, -3.46227792e-01,\n",
       "       -4.80527025e-01, -4.45428283e+00, -1.44216574e+00, -2.66975523e+00,\n",
       "       -2.36428033e+00, -1.23376177e+00, -1.83213461e+00, -1.45593981e+00,\n",
       "        3.62857479e+00, -1.82880609e+00, -2.84779910e+00, -1.20127487e+00,\n",
       "       -4.33716922e-01, -2.30639553e+00, -3.44221442e+00, -1.51534093e+00,\n",
       "       -3.33235538e+00, -2.82521692e-01,  5.09894401e-01,  1.45628488e+00,\n",
       "       -2.34714971e+00,  1.66295656e+00,  4.66059067e+00, -7.76744256e-01,\n",
       "       -1.05790560e+00, -7.71035520e-01, -4.95911331e-01,  1.93030169e+00,\n",
       "       -1.80760890e-01,  2.66028389e+00, -1.82064221e+00,  1.65688771e-01,\n",
       "        6.29884441e-01, -1.98000634e-03,  1.81058865e+00, -1.03957770e+00,\n",
       "       -1.88470510e+00, -2.09457386e+00, -1.94215688e-01, -2.27672554e+00,\n",
       "       -3.13388053e+00,  4.19391269e-01, -1.99271915e+00, -1.32113822e+00,\n",
       "       -2.46162823e+00, -1.89553094e+00, -1.84384774e+00, -1.30556489e-01,\n",
       "       -5.79583825e-01, -7.89673195e-01, -1.01261646e+00, -3.44092334e+00,\n",
       "       -2.95865342e+00, -2.35908344e+00, -1.22515182e+00, -1.54354161e+00,\n",
       "        1.35811548e+00,  8.64315475e-01, -1.91573195e+00, -2.49220438e+00,\n",
       "       -1.67822114e+00,  1.86907898e+00,  2.18912603e+00, -1.27085867e+00,\n",
       "        4.26132178e+00, -6.78972488e-02, -2.71531671e+00,  7.98881712e-01,\n",
       "        1.46065563e+00, -2.16965872e-01, -1.80247400e+00, -8.55604564e-01,\n",
       "       -2.36955661e-01, -2.30810443e+00, -2.49771116e+00, -3.54330860e+00,\n",
       "       -2.72664477e+00,  7.06129916e-01, -9.31155222e-01, -1.51849112e+00,\n",
       "        6.25503265e+00,  3.39633151e+00,  3.31404532e-01, -2.12964745e+00,\n",
       "        2.29859702e-01, -2.79390477e+00,  1.56295156e+00, -1.85711945e+00,\n",
       "       -1.79580758e+00, -1.62641125e+00, -2.69916542e-01, -1.09581000e+00,\n",
       "       -2.81144857e+00, -1.02470976e+00,  5.93507399e-02, -1.29431779e+00,\n",
       "       -5.42106518e-01,  1.61927777e+00,  2.21148191e+00, -3.07144990e-01,\n",
       "       -1.46774210e+00,  1.21180262e+00,  4.51708059e+00, -4.44373690e-01,\n",
       "       -1.39698464e+00, -1.55236182e-01, -2.78275030e+00,  9.92948352e-01,\n",
       "       -8.63477429e-01, -2.79179154e-01,  2.90274273e+00, -1.69837051e+00,\n",
       "        6.52591278e+00,  1.48198804e+00, -2.48523105e-01, -7.80819132e-01,\n",
       "       -1.70431861e+00, -2.60733544e+00,  2.47649847e+00,  2.91837127e+00,\n",
       "       -1.08728933e+00, -1.09366463e+00, -2.61482338e+00,  3.53572576e-01,\n",
       "       -1.07518653e+00, -7.21000190e-01, -2.59281028e+00, -2.78146309e-01,\n",
       "       -1.03605672e+00, -1.01658341e+00,  9.50630943e-01, -1.53019938e+00,\n",
       "       -1.22387938e+00,  3.16804104e+00, -3.01156660e+00, -4.65452606e-01,\n",
       "        4.49243378e+00,  2.81596718e+00, -1.89932013e-02,  2.23010568e+00,\n",
       "       -9.62919159e-01, -1.61119127e+00, -2.01194834e+00, -4.73733908e-01,\n",
       "        2.37660615e+00, -2.33911241e+00, -1.08892771e+00, -1.42222771e+00,\n",
       "       -1.96857458e+00, -2.07334475e+00,  3.16060001e+00, -1.89675150e+00,\n",
       "        2.34870123e+00,  9.71287295e-01,  2.18074144e+00, -7.23751206e-01,\n",
       "        2.73222914e+00, -2.25330627e-02,  4.64436300e-01,  9.48114772e-01,\n",
       "        3.02685003e+00,  1.31387331e+00,  1.23411622e+00,  2.36436847e-01,\n",
       "        1.18023126e+00,  3.45517875e+00, -2.32654490e+00, -6.57242329e-01,\n",
       "       -1.32096452e+00, -2.19438165e+00, -5.68635930e-01, -2.29022260e+00,\n",
       "        3.43494948e+00, -2.93556992e+00,  1.68327500e+00, -1.75683745e+00,\n",
       "       -2.21052655e+00,  1.89073066e+00, -8.69439658e-01, -8.78725664e-01,\n",
       "        2.41937426e+00, -2.01007523e+00,  2.09438370e+00,  5.23499396e-01,\n",
       "       -1.33787928e+00, -1.35182230e+00, -1.55111872e+00, -1.47474655e+00,\n",
       "       -1.93833183e+00, -1.93932241e+00, -3.53419966e-01, -1.07980009e-01,\n",
       "       -1.29048228e+00, -1.77181332e+00, -1.52592740e+00, -1.02061149e+00,\n",
       "       -2.51949427e+00, -1.78137158e+00, -5.12229934e-01, -2.15255247e+00,\n",
       "        2.19849183e+00, -1.33362120e+00,  2.74554775e+00, -2.40035388e+00,\n",
       "       -1.93241661e+00, -1.52563153e+00, -1.17433713e+00, -3.37915146e+00,\n",
       "       -1.18721454e+00, -1.35542782e+00, -1.76033493e+00, -4.66335255e-01,\n",
       "       -1.52739683e+00, -2.28654204e+00, -3.36067336e+00, -1.47968057e+00,\n",
       "       -1.78380344e+00,  1.53270406e+00, -3.11913463e+00, -1.50214437e+00,\n",
       "       -2.65094857e+00,  2.55823196e+00, -1.47934729e+00,  2.74763684e+00,\n",
       "       -1.71371729e+00, -1.36454476e+00, -8.68913911e-01, -1.65561652e+00,\n",
       "        6.41625703e-01,  6.98623221e-01,  2.44084360e-01, -1.09861741e+00,\n",
       "       -1.96391756e+00, -2.21819757e+00, -1.46089733e+00,  1.05755586e+00,\n",
       "       -1.36515979e+00,  1.94737139e+00, -2.68073599e+00,  4.50130661e+00,\n",
       "       -5.17577135e-01, -2.94245693e+00, -2.30498250e+00,  2.42202198e+00,\n",
       "       -1.94942529e+00, -2.72386089e+00, -1.58894807e+00, -4.40679110e-01,\n",
       "       -2.04034149e+00, -1.85373464e+00, -1.88883637e+00,  2.98931763e-01,\n",
       "        5.26562520e+00,  3.05109965e-01, -2.31163480e+00, -1.32641965e+00,\n",
       "       -1.10344349e+00, -8.13944451e-01, -3.38318414e+00, -2.95013733e+00,\n",
       "       -1.38960938e+00, -8.18601468e-01, -1.23721698e+00,  6.29860934e-01,\n",
       "       -1.01298738e+00,  2.81266216e+00,  2.95887648e+00, -1.55957847e+00,\n",
       "        3.21626417e+00,  3.61504959e+00,  8.19054585e-01, -3.03825960e-01,\n",
       "        2.92982129e+00,  2.67905764e+00, -9.12634969e-01,  3.44774795e-01,\n",
       "       -2.27438285e+00, -3.85230692e-01, -9.76650957e-01, -2.08954119e+00,\n",
       "       -2.30460695e+00, -2.31671438e+00, -1.39136982e+00, -1.49696150e+00,\n",
       "       -1.24517913e+00, -6.82305308e-02, -1.76806235e+00, -8.11526717e-01,\n",
       "       -2.16986165e+00,  2.43727485e+00, -2.85595373e+00, -3.38457843e+00,\n",
       "        2.06893545e-01,  3.43240031e+00, -1.63126548e+00, -6.66152786e-01,\n",
       "       -8.54299465e-01, -1.29014426e+00, -2.31187892e+00, -1.80777419e+00,\n",
       "        1.48958390e+00, -2.07872484e+00, -1.16499010e+00, -1.28759509e+00,\n",
       "       -1.65652731e+00, -2.17325583e+00,  2.65374501e-01, -1.05737036e+00,\n",
       "        1.51104775e+00, -1.53446220e+00, -2.01441773e+00, -2.21592065e+00,\n",
       "       -2.79166536e+00,  6.69090831e-02,  5.46371750e-01, -1.55471949e+00,\n",
       "       -2.78654821e+00,  2.70848505e-01, -1.62147723e+00, -1.91211230e+00,\n",
       "       -1.82996099e+00, -5.16488007e-01, -1.96988917e+00, -7.65514615e-01,\n",
       "       -2.75254973e+00, -2.49194139e+00, -2.59799315e+00, -2.06440141e+00,\n",
       "       -2.18142921e+00, -1.31956550e+00,  4.35579966e-02, -1.48128143e+00,\n",
       "        2.56200644e+00,  2.00136903e+00, -2.73268573e-01, -5.77274021e-01,\n",
       "       -1.14431024e+00, -7.39952386e-01, -6.44247616e-01, -7.67068574e-01,\n",
       "       -2.23178380e+00,  1.39850812e+00, -8.81856976e-01, -2.37517658e+00,\n",
       "        1.32921060e+00, -1.30667397e+00,  1.78033651e+00, -2.65494258e-01,\n",
       "       -3.13266797e-01,  3.08045325e+00, -1.54523164e+00,  2.55251396e+00,\n",
       "       -1.12441900e+00, -5.97611218e-01, -1.39785316e+00, -2.92638474e-01,\n",
       "       -1.25578413e+00, -6.69011732e-01, -7.81851866e-01, -2.26427053e+00,\n",
       "        1.39394966e+00,  6.58985373e+00,  2.66479850e-02, -1.85082394e+00,\n",
       "       -1.06222934e+00, -9.25413711e-01, -9.43755625e-01, -2.84417953e+00,\n",
       "        1.45495164e+00, -1.85023242e+00, -2.82399731e+00, -1.10891264e+00,\n",
       "       -3.49476527e-01, -8.95217746e-01, -2.36123355e+00, -1.36670900e+00,\n",
       "       -4.17454714e-01, -7.76983623e-01, -2.10659213e+00,  5.67826103e-01,\n",
       "       -1.58439898e+00, -6.37994372e-01, -1.13080854e+00, -8.24277317e-01,\n",
       "       -1.32420335e-01, -1.52330308e+00, -3.89587427e-01,  2.14861608e+00,\n",
       "       -1.92644037e+00,  8.27518971e-01, -1.30481962e+00,  1.04590840e+00,\n",
       "        1.51588322e+00, -1.70814949e+00, -9.44225090e-01, -9.47270560e-02,\n",
       "       -1.32853224e+00, -1.46541828e+00,  1.59798288e+00,  2.86006854e+00,\n",
       "       -1.92614827e-01, -4.00046984e-01, -1.48244571e+00,  4.05281914e+00,\n",
       "       -3.32443557e+00, -3.10324806e+00, -1.44734862e+00, -2.19039594e+00,\n",
       "        3.91059151e-01,  4.02819285e-01, -1.97453218e+00, -4.17450080e-01,\n",
       "       -8.23601260e-01, -5.89236001e-01, -6.39396827e-02, -1.96938682e+00,\n",
       "        1.66905022e+00,  2.45316614e+00, -1.20926516e+00, -1.35581275e+00,\n",
       "       -3.25610521e+00,  4.92752736e+00, -1.94522824e+00, -7.64035811e-01,\n",
       "       -2.88180232e+00, -3.66562720e+00, -8.87077374e-01, -1.79869952e+00,\n",
       "       -9.39723016e-01, -1.87352722e+00, -1.81721039e+00, -1.72727064e+00,\n",
       "       -9.03912344e-01,  2.76898801e+00, -2.21457329e+00,  2.81962899e+00,\n",
       "       -2.74803658e-01, -1.48265219e+00, -3.43525688e+00, -3.45717610e+00,\n",
       "       -2.08919852e+00, -4.39592747e-02,  1.15747356e-01, -5.19943108e-01,\n",
       "       -5.75752949e-01, -5.68293156e-01, -2.60643878e+00, -2.62465864e+00,\n",
       "       -2.77079306e+00, -1.93596100e+00, -2.06050487e+00, -1.87268209e+00,\n",
       "       -6.70354353e-01, -2.81032182e+00, -6.41637305e-01, -2.02431390e+00,\n",
       "       -2.51568215e+00, -2.44957698e+00, -1.05660824e-01, -1.60097096e+00,\n",
       "       -1.42321145e-01, -1.46955882e+00,  6.34973515e-01,  3.23162509e+00,\n",
       "        3.41288473e+00,  2.99871512e+00,  1.19991590e+00,  3.29430783e+00,\n",
       "       -3.46993612e+00])"
      ]
     },
     "execution_count": 7,
     "metadata": {},
     "output_type": "execute_result"
    }
   ],
   "source": [
    "y_score"
   ]
  },
  {
   "cell_type": "markdown",
   "metadata": {},
   "source": [
    "##### ROC, PR 곡선 (1)"
   ]
  },
  {
   "cell_type": "code",
   "execution_count": 8,
   "metadata": {},
   "outputs": [],
   "source": [
    "from sklearn.metrics import auc\n",
    "from sklearn.metrics import roc_curve\n",
    "from sklearn.metrics import roc_auc_score\n",
    "from sklearn.metrics import precision_recall_curve\n",
    "from sklearn.model_selection import train_test_split"
   ]
  },
  {
   "cell_type": "code",
   "execution_count": 9,
   "metadata": {},
   "outputs": [],
   "source": [
    "from sklearn.metrics import confusion_matrix\n",
    "from sklearn.metrics import accuracy_score, precision_score, recall_score, f1_score\n",
    "from sklearn.model_selection import cross_val_predict"
   ]
  },
  {
   "cell_type": "code",
   "execution_count": 10,
   "metadata": {},
   "outputs": [],
   "source": [
    "X_train, X_test, y_train, y_test = train_test_split(X_sum, y)"
   ]
  },
  {
   "cell_type": "code",
   "execution_count": 11,
   "metadata": {},
   "outputs": [
    {
     "name": "stderr",
     "output_type": "stream",
     "text": [
      "c:\\users\\kw375\\appdata\\local\\programs\\python\\python36\\lib\\site-packages\\sklearn\\linear_model\\logistic.py:432: FutureWarning: Default solver will be changed to 'lbfgs' in 0.22. Specify a solver to silence this warning.\n",
      "  FutureWarning)\n",
      "c:\\users\\kw375\\appdata\\local\\programs\\python\\python36\\lib\\site-packages\\sklearn\\linear_model\\logistic.py:432: FutureWarning: Default solver will be changed to 'lbfgs' in 0.22. Specify a solver to silence this warning.\n",
      "  FutureWarning)\n",
      "c:\\users\\kw375\\appdata\\local\\programs\\python\\python36\\lib\\site-packages\\sklearn\\linear_model\\logistic.py:432: FutureWarning: Default solver will be changed to 'lbfgs' in 0.22. Specify a solver to silence this warning.\n",
      "  FutureWarning)\n"
     ]
    }
   ],
   "source": [
    "model = LogisticRegression().fit(X_sum, y)\n",
    "y_score = model.fit(X_train, y_train).decision_function(X_test)\n",
    "y_pred = model.fit(X_train, y_train).predict(X_test)"
   ]
  },
  {
   "cell_type": "code",
   "execution_count": 12,
   "metadata": {},
   "outputs": [
    {
     "data": {
      "text/plain": [
       "array([ 2.77700099, -2.93305124, -0.99976896, -1.91673689, -0.85856909,\n",
       "       -0.36374208, -1.00239328, -0.30386267,  1.03021706, -0.16807553,\n",
       "       -0.91128859, -1.14538739, -0.31198774, -0.11207893, -1.65116782,\n",
       "       -1.03653493,  0.21121457,  2.69834581, -2.08166913, -0.29558547,\n",
       "       -2.10911667, -2.19422098,  0.80995778, -0.90600127, -0.32461355,\n",
       "       -1.63009717, -1.66534161,  0.84131585, -2.10932298, -3.11758387,\n",
       "       -0.95504428, -1.50353561,  5.53222182,  0.41576759, -1.59330219,\n",
       "       -0.96293786, -0.71824153, -0.73617628,  1.9025496 , -1.29943261,\n",
       "        4.77119231, -0.53521885, -1.2160452 , -1.46585382, -1.74469052,\n",
       "        1.73519452, -0.10859069, -2.54332736, -1.70369907,  2.83358397,\n",
       "        0.48488709, -1.78170987, -0.8663721 ,  1.11072066,  2.77008479,\n",
       "        2.59022703, -1.03473714, -0.20465809, -0.01240983, -1.36166363,\n",
       "        1.98301225, -1.20366081, -1.25826257,  4.10883519, -0.95875817,\n",
       "        2.10862543, -2.52484653,  5.77380386, -1.87302215,  2.50166576,\n",
       "        1.40866614, -2.11531853,  1.27180038,  3.75254634, -1.2355437 ,\n",
       "       -1.1718321 ,  1.02017107, -0.46800706, -0.11214889, -0.07174509,\n",
       "       -2.73999419, -1.57669716, -0.75649164, -0.73989984, -2.02505842,\n",
       "       -0.20542433,  2.65091846, -0.97603531, -2.13947319, -0.13599956,\n",
       "       -0.99602734, -1.54950783, -1.29856385, -2.28135001, -0.64923906,\n",
       "       -1.7620015 ,  0.68724291, -2.68500399,  0.19038763, -1.04080136,\n",
       "       -0.84338535, -0.88250777, -2.59043492, -1.40738375,  0.05221631,\n",
       "       -1.91675978,  1.91095833,  1.45140961, -0.29219491, -3.14860154,\n",
       "       -2.60132419,  2.84499708, -1.80455543,  2.07024863,  0.83491735,\n",
       "       -1.3724952 , -1.85796866, -1.81013352, -1.78787434, -2.84943173,\n",
       "       -0.73355679, -0.53814845,  2.38803529, -1.67690558, -1.39253785,\n",
       "       -0.87619856, -1.75821154,  2.13838108, -3.32402267,  4.34720653,\n",
       "       -2.02970136, -1.15952379,  3.18757183,  0.71071707, -1.6838579 ,\n",
       "        2.11067177, -0.22360278, -0.8499286 , -0.95589498, -2.44457374,\n",
       "       -1.81436383, -1.46990071, -1.80951814])"
      ]
     },
     "execution_count": 12,
     "metadata": {},
     "output_type": "execute_result"
    }
   ],
   "source": [
    "y_score"
   ]
  },
  {
   "cell_type": "code",
   "execution_count": 13,
   "metadata": {},
   "outputs": [],
   "source": [
    "roc_auc = roc_auc_score(y_test, y_score)\n",
    "\n",
    "fpr, tpr, thresholds = roc_curve(y_test, y_score)"
   ]
  },
  {
   "cell_type": "code",
   "execution_count": 14,
   "metadata": {},
   "outputs": [
    {
     "name": "stdout",
     "output_type": "stream",
     "text": [
      "0.9597701149425287\n"
     ]
    }
   ],
   "source": [
    "print (roc_auc)"
   ]
  },
  {
   "cell_type": "code",
   "execution_count": 15,
   "metadata": {},
   "outputs": [
    {
     "data": {
      "image/png": "[encoded data removed]",
      "text/plain": [
       "<Figure size 432x288 with 1 Axes>"
      ]
     },
     "metadata": {
      "needs_background": "light"
     },
     "output_type": "display_data"
    }
   ],
   "source": [
    "plt.figure()\n",
    "plt.plot(fpr, tpr, lw=2, color='darkorange', label='ROC curve (area = %0.2f)' % roc_auc)\n",
    "plt.plot([0, 1], [0, 1], color='navy', lw=2, linestyle='--')\n",
    "plt.xlim([0.0, 1.0])\n",
    "plt.ylim([0.0, 1.05])\n",
    "plt.xlabel('False Positive Rate = Recall')\n",
    "plt.ylabel('True Positive Rate = Sensitivity')\n",
    "plt.title('ROC curve')\n",
    "plt.legend(loc=\"lower right\")\n",
    "plt.show()"
   ]
  },
  {
   "cell_type": "code",
   "execution_count": 16,
   "metadata": {},
   "outputs": [
    {
     "name": "stdout",
     "output_type": "stream",
     "text": [
      "[[86  1]\n",
      " [17 39]]\n"
     ]
    }
   ],
   "source": [
    "print (confusion_matrix(y_test, y_pred))"
   ]
  },
  {
   "cell_type": "markdown",
   "metadata": {},
   "source": [
    "#### Random Forest (2)"
   ]
  },
  {
   "cell_type": "code",
   "execution_count": 17,
   "metadata": {},
   "outputs": [],
   "source": [
    "import random\n",
    "from sklearn.ensemble import RandomForestClassifier\n",
    "from sklearn.linear_model import SGDClassifier"
   ]
  },
  {
   "cell_type": "code",
   "execution_count": 18,
   "metadata": {},
   "outputs": [],
   "source": [
    "X_train, X_test, y_train, y_test = train_test_split(X_sum, y)"
   ]
  },
  {
   "cell_type": "code",
   "execution_count": 19,
   "metadata": {},
   "outputs": [],
   "source": [
    "random_seed = random.randint(0, 1000)\n",
    "\n",
    "rf = RandomForestClassifier(n_estimators = 200, oob_score= True, random_state = random_seed)\n",
    "model = rf.fit(X_train, y_train)\n",
    "\n",
    "y_score = rf.predict_proba(X_test)[:, 1]\n",
    "y_pred = rf.predict(X_test)"
   ]
  },
  {
   "cell_type": "code",
   "execution_count": 20,
   "metadata": {},
   "outputs": [],
   "source": [
    "roc_auc = roc_auc_score(y_test, y_score)\n",
    "\n",
    "fpr, tpr, thresholds = roc_curve(y_test, y_score)"
   ]
  },
  {
   "cell_type": "code",
   "execution_count": 21,
   "metadata": {},
   "outputs": [
    {
     "name": "stdout",
     "output_type": "stream",
     "text": [
      "0.9695740365111561\n"
     ]
    }
   ],
   "source": [
    "print (roc_auc)"
   ]
  },
  {
   "cell_type": "code",
   "execution_count": 22,
   "metadata": {},
   "outputs": [
    {
     "data": {
      "image/png": "[encoded data removed]",
      "text/plain": [
       "<Figure size 432x288 with 1 Axes>"
      ]
     },
     "metadata": {
      "needs_background": "light"
     },
     "output_type": "display_data"
    }
   ],
   "source": [
    "plt.figure()\n",
    "plt.plot(fpr, tpr, lw=2, color='darkorange', label='ROC curve (area = %0.2f)' % roc_auc)\n",
    "plt.plot([0, 1], [0, 1], color='navy', lw=2, linestyle='--')\n",
    "plt.xlim([0.0, 1.0])\n",
    "plt.ylim([0.0, 1.05])\n",
    "plt.xlabel('False Positive Rate = Recall')\n",
    "plt.ylabel('True Positive Rate = Sensitivity')\n",
    "plt.title('ROC curve')\n",
    "plt.legend(loc=\"lower right\")\n",
    "plt.show()"
   ]
  },
  {
   "cell_type": "markdown",
   "metadata": {},
   "source": [
    "#### 2) 선택된 모델에 대해 5 fold 교차검증을 통한 그리드 서치를 시행해 최적의 파라미터를 도출해 주세요. (1번에서 선택한 모델보다 좋은 성능을 내는 파라미터 찾기)"
   ]
  },
  {
   "cell_type": "code",
   "execution_count": 23,
   "metadata": {},
   "outputs": [],
   "source": [
    "from sklearn.model_selection import KFold\n",
    "from sklearn.model_selection import cross_val_score\n",
    "from sklearn.model_selection import GridSearchCV"
   ]
  },
  {
   "cell_type": "code",
   "execution_count": 24,
   "metadata": {},
   "outputs": [
    {
     "name": "stdout",
     "output_type": "stream",
     "text": [
      "[[1.799e+01 1.038e+01 1.228e+02 ... 2.654e-01 4.601e-01 1.189e-01]\n",
      " [1.969e+01 2.125e+01 1.300e+02 ... 2.430e-01 3.613e-01 8.758e-02]\n",
      " [1.142e+01 2.038e+01 7.758e+01 ... 2.575e-01 6.638e-01 1.730e-01]\n",
      " ...\n",
      " [1.120e+01 2.937e+01 7.067e+01 ... 0.000e+00 1.566e-01 5.905e-02]\n",
      " [2.092e+01 2.509e+01 1.430e+02 ... 2.542e-01 2.929e-01 9.873e-02]\n",
      " [7.760e+00 2.454e+01 4.792e+01 ... 0.000e+00 2.871e-01 7.039e-02]] [1 1 1 1 1 1 1 0 0 1 1 0 1 0 0 1 1 1 1 0 0 0 1 0 1 1 0 0 0 0 1 0 0 0 0 1 0\n",
      " 0 1 1 1 1 1 0 0 0 0 0 0 0 0 1 0 0 1 0 0 0 1 0 1 1 1 1 0 0 1 0 1 0 0 1 0 1\n",
      " 0 1 1 0 0 0 1 1 1 0 0 1 0 0 1 0 0 0 0 0 0 0 0 0 0 0 0 1 0 0 0 1 0 0 1 0 0\n",
      " 0 0 0 1 0 0 0 0 0 0 0 1 1 0 0 0 1 1 0 1 1 0 0 1 0 0 1 0 1 0 0 0 0 1 0 0 0\n",
      " 0 1 0 0 0 0 0 1 0 0 0 0 0 1 0 1 0 0 0 1 1 0 1 0 0 0 0 0 0 0 0 0 0 0 0 0 0\n",
      " 1 1 1 1 1]\n",
      "[[1.799e+01 1.038e+01 1.228e+02 ... 2.654e-01 4.601e-01 1.189e-01]\n",
      " [2.057e+01 1.777e+01 1.329e+02 ... 1.860e-01 2.750e-01 8.902e-02]\n",
      " [1.142e+01 2.038e+01 7.758e+01 ... 2.575e-01 6.638e-01 1.730e-01]\n",
      " ...\n",
      " [1.660e+01 2.808e+01 1.083e+02 ... 1.418e-01 2.218e-01 7.820e-02]\n",
      " [2.060e+01 2.933e+01 1.401e+02 ... 2.650e-01 4.087e-01 1.240e-01]\n",
      " [7.760e+00 2.454e+01 4.792e+01 ... 0.000e+00 2.871e-01 7.039e-02]] [1 1 1 1 1 1 1 1 1 1 1 1 1 1 1 1 1 0 0 0 0 0 0 0 0 1 0 0 0 0 0 0 1 0 0 0 0\n",
      " 0 1 0 1 0 1 0 1 1 0 1 0 0 1 0 0 1 0 1 1 1 0 0 1 0 0 0 1 1 0 1 0 1 1 1 0 0\n",
      " 1 1 0 0 1 1 0 0 0 0 0 0 0 0 1 1 1 1 1 1 1 0 0 1 0 0 0 0 0 1 1 1 0 0 0 0 0\n",
      " 0 0 1 0 1 0 0 1 0 1 0 0 0 0 1 0 0 0 1 0 0 0 0 0 0 0 0 0 1 0 0 0 1 0 0 1 0\n",
      " 0 0 1 0 0 0 0 0 0 1 0 0 1 0 0 0 0 1 1 1 0 0 0 0 1 0 0 0 0 1 0 0 0 0 0 0 0\n",
      " 0 0 0 0 1]\n",
      "[[2.057e+01 1.777e+01 1.329e+02 ... 1.860e-01 2.750e-01 8.902e-02]\n",
      " [1.969e+01 2.125e+01 1.300e+02 ... 2.430e-01 3.613e-01 8.758e-02]\n",
      " [2.029e+01 1.434e+01 1.351e+02 ... 1.625e-01 2.364e-01 7.678e-02]\n",
      " ...\n",
      " [2.013e+01 2.825e+01 1.312e+02 ... 1.628e-01 2.572e-01 6.637e-02]\n",
      " [1.660e+01 2.808e+01 1.083e+02 ... 1.418e-01 2.218e-01 7.820e-02]\n",
      " [2.060e+01 2.933e+01 1.401e+02 ... 2.650e-01 4.087e-01 1.240e-01]] [1 1 1 1 1 1 0 1 1 1 1 1 1 1 1 1 1 0 0 1 1 0 1 0 1 1 1 0 0 1 1 0 1 1 1 1 1\n",
      " 0 1 0 0 0 1 1 1 0 0 0 0 1 0 0 0 0 0 0 0 1 0 0 0 1 0 1 1 0 1 0 0 1 1 1 1 1\n",
      " 0 0 0 0 0 1 1 0 0 1 1 1 1 1 0 0 0 0 1 0 1 0 1 0 0 0 0 0 0 0 0 0 0 0 1 1 1\n",
      " 0 0 0 1 0 1 0 0 1 0 0 0 1 1 1 0 1 0 0 0 0 0 0 0 0 0 0 0 0 0 0 0 0 0 0 0 1\n",
      " 0 1 0 1 0 0 1 0 0 0 1 0 0 0 0 0 0 0 0 0 0 1 1 0 0 0 1 0 0 0 1 1 0 0 0 0 0\n",
      " 0 0 0 0]\n"
     ]
    }
   ],
   "source": [
    "cv = KFold(n_splits = 3, shuffle = True, random_state = 0)\n",
    "\n",
    "for train_index, test_index in cv.split(X):\n",
    "    print(X[train_index], y[test_index])"
   ]
  },
  {
   "cell_type": "code",
   "execution_count": 25,
   "metadata": {},
   "outputs": [],
   "source": [
    "kfold = KFold(n_splits = 5, shuffle=True, random_state = 0)"
   ]
  },
  {
   "cell_type": "code",
   "execution_count": 26,
   "metadata": {},
   "outputs": [
    {
     "name": "stderr",
     "output_type": "stream",
     "text": [
      "c:\\users\\kw375\\appdata\\local\\programs\\python\\python36\\lib\\site-packages\\sklearn\\ensemble\\forest.py:245: FutureWarning: The default value of n_estimators will change from 10 in version 0.20 to 100 in 0.22.\n",
      "  \"10 in version 0.20 to 100 in 0.22.\", FutureWarning)\n",
      "c:\\users\\kw375\\appdata\\local\\programs\\python\\python36\\lib\\site-packages\\sklearn\\ensemble\\forest.py:245: FutureWarning: The default value of n_estimators will change from 10 in version 0.20 to 100 in 0.22.\n",
      "  \"10 in version 0.20 to 100 in 0.22.\", FutureWarning)\n",
      "c:\\users\\kw375\\appdata\\local\\programs\\python\\python36\\lib\\site-packages\\sklearn\\ensemble\\forest.py:245: FutureWarning: The default value of n_estimators will change from 10 in version 0.20 to 100 in 0.22.\n",
      "  \"10 in version 0.20 to 100 in 0.22.\", FutureWarning)\n",
      "c:\\users\\kw375\\appdata\\local\\programs\\python\\python36\\lib\\site-packages\\sklearn\\ensemble\\forest.py:245: FutureWarning: The default value of n_estimators will change from 10 in version 0.20 to 100 in 0.22.\n",
      "  \"10 in version 0.20 to 100 in 0.22.\", FutureWarning)\n",
      "c:\\users\\kw375\\appdata\\local\\programs\\python\\python36\\lib\\site-packages\\sklearn\\ensemble\\forest.py:245: FutureWarning: The default value of n_estimators will change from 10 in version 0.20 to 100 in 0.22.\n",
      "  \"10 in version 0.20 to 100 in 0.22.\", FutureWarning)\n"
     ]
    },
    {
     "data": {
      "text/plain": [
       "array([0.96491228, 0.95614035, 0.89473684, 0.96491228, 0.95575221])"
      ]
     },
     "execution_count": 26,
     "metadata": {},
     "output_type": "execute_result"
    }
   ],
   "source": [
    "scores = cross_val_score(RandomForestClassifier(), X, y, cv=kfold)\n",
    "\n",
    "scores"
   ]
  },
  {
   "cell_type": "code",
   "execution_count": 27,
   "metadata": {},
   "outputs": [
    {
     "data": {
      "text/plain": [
       "0.947290793355069"
      ]
     },
     "metadata": {},
     "output_type": "display_data"
    },
    {
     "data": {
      "text/plain": [
       "0.0007065723409994693"
      ]
     },
     "metadata": {},
     "output_type": "display_data"
    }
   ],
   "source": [
    "display(scores.mean(), scores.var())"
   ]
  },
  {
   "cell_type": "code",
   "execution_count": 39,
   "metadata": {},
   "outputs": [],
   "source": [
    "X_train, X_test, y_train,y_test = train_test_split(X_sum, y, test_size = 0.2, random_state = 121)"
   ]
  },
  {
   "cell_type": "code",
   "execution_count": 85,
   "metadata": {},
   "outputs": [],
   "source": [
    "param_grid= {'max_depth':[2,3,4], 'max_features':['auto', 'sqrt', 'log2', None], 'criterion':['gini', 'entropy']}"
   ]
  },
  {
   "cell_type": "code",
   "execution_count": 86,
   "metadata": {},
   "outputs": [],
   "source": [
    "grid_rf = GridSearchCV(estimator= rf, param_grid = param_grid,scoring = 'accuracy', cv = 10,n_jobs = 3, refit = True)"
   ]
  },
  {
   "cell_type": "code",
   "execution_count": 87,
   "metadata": {},
   "outputs": [
    {
     "name": "stderr",
     "output_type": "stream",
     "text": [
      "c:\\users\\kw375\\appdata\\local\\programs\\python\\python36\\lib\\site-packages\\sklearn\\model_selection\\_search.py:814: DeprecationWarning: The default of the `iid` parameter will change from True to False in version 0.22 and will be removed in 0.24. This will change numeric results when test-set sizes are unequal.\n",
      "  DeprecationWarning)\n"
     ]
    },
    {
     "data": {
      "text/plain": [
       "GridSearchCV(cv=10, error_score='raise-deprecating',\n",
       "             estimator=RandomForestClassifier(bootstrap=True, class_weight=None,\n",
       "                                              criterion='gini', max_depth=None,\n",
       "                                              max_features='auto',\n",
       "                                              max_leaf_nodes=None,\n",
       "                                              min_impurity_decrease=0.0,\n",
       "                                              min_impurity_split=None,\n",
       "                                              min_samples_leaf=1,\n",
       "                                              min_samples_split=2,\n",
       "                                              min_weight_fraction_leaf=0.0,\n",
       "                                              n_estimators=200, n_jobs=None,\n",
       "                                              oob_score=True, random_state=546,\n",
       "                                              verbose=0, warm_start=False),\n",
       "             iid='warn', n_jobs=3,\n",
       "             param_grid={'criterion': ['gini', 'entropy'],\n",
       "                         'max_depth': [2, 3, 4],\n",
       "                         'max_features': ['auto', 'sqrt', 'log2', None]},\n",
       "             pre_dispatch='2*n_jobs', refit=True, return_train_score=False,\n",
       "             scoring='accuracy', verbose=0)"
      ]
     },
     "execution_count": 87,
     "metadata": {},
     "output_type": "execute_result"
    }
   ],
   "source": [
    "grid_rf.fit(X_train, y_train)"
   ]
  },
  {
   "cell_type": "code",
   "execution_count": 88,
   "metadata": {},
   "outputs": [],
   "source": [
    "scores_df = pd.DataFrame(grid_rf.cv_results_)"
   ]
  },
  {
   "cell_type": "code",
   "execution_count": 89,
   "metadata": {},
   "outputs": [
    {
     "data": {
      "text/html": [
       "<div>\n",
       "<style scoped>\n",
       "    .dataframe tbody tr th:only-of-type {\n",
       "        vertical-align: middle;\n",
       "    }\n",
       "\n",
       "    .dataframe tbody tr th {\n",
       "        vertical-align: top;\n",
       "    }\n",
       "\n",
       "    .dataframe thead th {\n",
       "        text-align: right;\n",
       "    }\n",
       "</style>\n",
       "<table border=\"1\" class=\"dataframe\">\n",
       "  <thead>\n",
       "    <tr style=\"text-align: right;\">\n",
       "      <th></th>\n",
       "      <th>params</th>\n",
       "      <th>mean_test_score</th>\n",
       "      <th>rank_test_score</th>\n",
       "      <th>split0_test_score</th>\n",
       "      <th>split1_test_score</th>\n",
       "      <th>split2_test_score</th>\n",
       "    </tr>\n",
       "  </thead>\n",
       "  <tbody>\n",
       "    <tr>\n",
       "      <td>0</td>\n",
       "      <td>{'criterion': 'gini', 'max_depth': 2, 'max_fea...</td>\n",
       "      <td>0.881319</td>\n",
       "      <td>19</td>\n",
       "      <td>0.869565</td>\n",
       "      <td>0.913043</td>\n",
       "      <td>0.804348</td>\n",
       "    </tr>\n",
       "    <tr>\n",
       "      <td>1</td>\n",
       "      <td>{'criterion': 'gini', 'max_depth': 2, 'max_fea...</td>\n",
       "      <td>0.881319</td>\n",
       "      <td>19</td>\n",
       "      <td>0.869565</td>\n",
       "      <td>0.913043</td>\n",
       "      <td>0.804348</td>\n",
       "    </tr>\n",
       "    <tr>\n",
       "      <td>2</td>\n",
       "      <td>{'criterion': 'gini', 'max_depth': 2, 'max_fea...</td>\n",
       "      <td>0.881319</td>\n",
       "      <td>19</td>\n",
       "      <td>0.869565</td>\n",
       "      <td>0.913043</td>\n",
       "      <td>0.804348</td>\n",
       "    </tr>\n",
       "    <tr>\n",
       "      <td>3</td>\n",
       "      <td>{'criterion': 'gini', 'max_depth': 2, 'max_fea...</td>\n",
       "      <td>0.883516</td>\n",
       "      <td>18</td>\n",
       "      <td>0.869565</td>\n",
       "      <td>0.913043</td>\n",
       "      <td>0.826087</td>\n",
       "    </tr>\n",
       "    <tr>\n",
       "      <td>4</td>\n",
       "      <td>{'criterion': 'gini', 'max_depth': 3, 'max_fea...</td>\n",
       "      <td>0.887912</td>\n",
       "      <td>11</td>\n",
       "      <td>0.847826</td>\n",
       "      <td>0.913043</td>\n",
       "      <td>0.869565</td>\n",
       "    </tr>\n",
       "    <tr>\n",
       "      <td>5</td>\n",
       "      <td>{'criterion': 'gini', 'max_depth': 3, 'max_fea...</td>\n",
       "      <td>0.887912</td>\n",
       "      <td>11</td>\n",
       "      <td>0.847826</td>\n",
       "      <td>0.913043</td>\n",
       "      <td>0.869565</td>\n",
       "    </tr>\n",
       "    <tr>\n",
       "      <td>6</td>\n",
       "      <td>{'criterion': 'gini', 'max_depth': 3, 'max_fea...</td>\n",
       "      <td>0.887912</td>\n",
       "      <td>11</td>\n",
       "      <td>0.847826</td>\n",
       "      <td>0.913043</td>\n",
       "      <td>0.869565</td>\n",
       "    </tr>\n",
       "    <tr>\n",
       "      <td>7</td>\n",
       "      <td>{'criterion': 'gini', 'max_depth': 3, 'max_fea...</td>\n",
       "      <td>0.894505</td>\n",
       "      <td>5</td>\n",
       "      <td>0.891304</td>\n",
       "      <td>0.956522</td>\n",
       "      <td>0.847826</td>\n",
       "    </tr>\n",
       "    <tr>\n",
       "      <td>8</td>\n",
       "      <td>{'criterion': 'gini', 'max_depth': 4, 'max_fea...</td>\n",
       "      <td>0.896703</td>\n",
       "      <td>2</td>\n",
       "      <td>0.891304</td>\n",
       "      <td>0.934783</td>\n",
       "      <td>0.869565</td>\n",
       "    </tr>\n",
       "    <tr>\n",
       "      <td>9</td>\n",
       "      <td>{'criterion': 'gini', 'max_depth': 4, 'max_fea...</td>\n",
       "      <td>0.896703</td>\n",
       "      <td>2</td>\n",
       "      <td>0.891304</td>\n",
       "      <td>0.934783</td>\n",
       "      <td>0.869565</td>\n",
       "    </tr>\n",
       "    <tr>\n",
       "      <td>10</td>\n",
       "      <td>{'criterion': 'gini', 'max_depth': 4, 'max_fea...</td>\n",
       "      <td>0.896703</td>\n",
       "      <td>2</td>\n",
       "      <td>0.891304</td>\n",
       "      <td>0.934783</td>\n",
       "      <td>0.869565</td>\n",
       "    </tr>\n",
       "    <tr>\n",
       "      <td>11</td>\n",
       "      <td>{'criterion': 'gini', 'max_depth': 4, 'max_fea...</td>\n",
       "      <td>0.898901</td>\n",
       "      <td>1</td>\n",
       "      <td>0.891304</td>\n",
       "      <td>0.934783</td>\n",
       "      <td>0.869565</td>\n",
       "    </tr>\n",
       "    <tr>\n",
       "      <td>12</td>\n",
       "      <td>{'criterion': 'entropy', 'max_depth': 2, 'max_...</td>\n",
       "      <td>0.885714</td>\n",
       "      <td>14</td>\n",
       "      <td>0.869565</td>\n",
       "      <td>0.913043</td>\n",
       "      <td>0.804348</td>\n",
       "    </tr>\n",
       "    <tr>\n",
       "      <td>13</td>\n",
       "      <td>{'criterion': 'entropy', 'max_depth': 2, 'max_...</td>\n",
       "      <td>0.885714</td>\n",
       "      <td>14</td>\n",
       "      <td>0.869565</td>\n",
       "      <td>0.913043</td>\n",
       "      <td>0.804348</td>\n",
       "    </tr>\n",
       "    <tr>\n",
       "      <td>14</td>\n",
       "      <td>{'criterion': 'entropy', 'max_depth': 2, 'max_...</td>\n",
       "      <td>0.885714</td>\n",
       "      <td>14</td>\n",
       "      <td>0.869565</td>\n",
       "      <td>0.913043</td>\n",
       "      <td>0.804348</td>\n",
       "    </tr>\n",
       "    <tr>\n",
       "      <td>15</td>\n",
       "      <td>{'criterion': 'entropy', 'max_depth': 2, 'max_...</td>\n",
       "      <td>0.885714</td>\n",
       "      <td>14</td>\n",
       "      <td>0.891304</td>\n",
       "      <td>0.913043</td>\n",
       "      <td>0.804348</td>\n",
       "    </tr>\n",
       "    <tr>\n",
       "      <td>16</td>\n",
       "      <td>{'criterion': 'entropy', 'max_depth': 3, 'max_...</td>\n",
       "      <td>0.879121</td>\n",
       "      <td>22</td>\n",
       "      <td>0.869565</td>\n",
       "      <td>0.913043</td>\n",
       "      <td>0.804348</td>\n",
       "    </tr>\n",
       "    <tr>\n",
       "      <td>17</td>\n",
       "      <td>{'criterion': 'entropy', 'max_depth': 3, 'max_...</td>\n",
       "      <td>0.879121</td>\n",
       "      <td>22</td>\n",
       "      <td>0.869565</td>\n",
       "      <td>0.913043</td>\n",
       "      <td>0.804348</td>\n",
       "    </tr>\n",
       "    <tr>\n",
       "      <td>18</td>\n",
       "      <td>{'criterion': 'entropy', 'max_depth': 3, 'max_...</td>\n",
       "      <td>0.879121</td>\n",
       "      <td>22</td>\n",
       "      <td>0.869565</td>\n",
       "      <td>0.913043</td>\n",
       "      <td>0.804348</td>\n",
       "    </tr>\n",
       "    <tr>\n",
       "      <td>19</td>\n",
       "      <td>{'criterion': 'entropy', 'max_depth': 3, 'max_...</td>\n",
       "      <td>0.890110</td>\n",
       "      <td>10</td>\n",
       "      <td>0.891304</td>\n",
       "      <td>0.956522</td>\n",
       "      <td>0.847826</td>\n",
       "    </tr>\n",
       "    <tr>\n",
       "      <td>20</td>\n",
       "      <td>{'criterion': 'entropy', 'max_depth': 4, 'max_...</td>\n",
       "      <td>0.894505</td>\n",
       "      <td>5</td>\n",
       "      <td>0.891304</td>\n",
       "      <td>0.934783</td>\n",
       "      <td>0.869565</td>\n",
       "    </tr>\n",
       "    <tr>\n",
       "      <td>21</td>\n",
       "      <td>{'criterion': 'entropy', 'max_depth': 4, 'max_...</td>\n",
       "      <td>0.894505</td>\n",
       "      <td>5</td>\n",
       "      <td>0.891304</td>\n",
       "      <td>0.934783</td>\n",
       "      <td>0.869565</td>\n",
       "    </tr>\n",
       "    <tr>\n",
       "      <td>22</td>\n",
       "      <td>{'criterion': 'entropy', 'max_depth': 4, 'max_...</td>\n",
       "      <td>0.894505</td>\n",
       "      <td>5</td>\n",
       "      <td>0.891304</td>\n",
       "      <td>0.934783</td>\n",
       "      <td>0.869565</td>\n",
       "    </tr>\n",
       "    <tr>\n",
       "      <td>23</td>\n",
       "      <td>{'criterion': 'entropy', 'max_depth': 4, 'max_...</td>\n",
       "      <td>0.894505</td>\n",
       "      <td>5</td>\n",
       "      <td>0.891304</td>\n",
       "      <td>0.934783</td>\n",
       "      <td>0.869565</td>\n",
       "    </tr>\n",
       "  </tbody>\n",
       "</table>\n",
       "</div>"
      ],
      "text/plain": [
       "                                               params  mean_test_score  \\\n",
       "0   {'criterion': 'gini', 'max_depth': 2, 'max_fea...         0.881319   \n",
       "1   {'criterion': 'gini', 'max_depth': 2, 'max_fea...         0.881319   \n",
       "2   {'criterion': 'gini', 'max_depth': 2, 'max_fea...         0.881319   \n",
       "3   {'criterion': 'gini', 'max_depth': 2, 'max_fea...         0.883516   \n",
       "4   {'criterion': 'gini', 'max_depth': 3, 'max_fea...         0.887912   \n",
       "5   {'criterion': 'gini', 'max_depth': 3, 'max_fea...         0.887912   \n",
       "6   {'criterion': 'gini', 'max_depth': 3, 'max_fea...         0.887912   \n",
       "7   {'criterion': 'gini', 'max_depth': 3, 'max_fea...         0.894505   \n",
       "8   {'criterion': 'gini', 'max_depth': 4, 'max_fea...         0.896703   \n",
       "9   {'criterion': 'gini', 'max_depth': 4, 'max_fea...         0.896703   \n",
       "10  {'criterion': 'gini', 'max_depth': 4, 'max_fea...         0.896703   \n",
       "11  {'criterion': 'gini', 'max_depth': 4, 'max_fea...         0.898901   \n",
       "12  {'criterion': 'entropy', 'max_depth': 2, 'max_...         0.885714   \n",
       "13  {'criterion': 'entropy', 'max_depth': 2, 'max_...         0.885714   \n",
       "14  {'criterion': 'entropy', 'max_depth': 2, 'max_...         0.885714   \n",
       "15  {'criterion': 'entropy', 'max_depth': 2, 'max_...         0.885714   \n",
       "16  {'criterion': 'entropy', 'max_depth': 3, 'max_...         0.879121   \n",
       "17  {'criterion': 'entropy', 'max_depth': 3, 'max_...         0.879121   \n",
       "18  {'criterion': 'entropy', 'max_depth': 3, 'max_...         0.879121   \n",
       "19  {'criterion': 'entropy', 'max_depth': 3, 'max_...         0.890110   \n",
       "20  {'criterion': 'entropy', 'max_depth': 4, 'max_...         0.894505   \n",
       "21  {'criterion': 'entropy', 'max_depth': 4, 'max_...         0.894505   \n",
       "22  {'criterion': 'entropy', 'max_depth': 4, 'max_...         0.894505   \n",
       "23  {'criterion': 'entropy', 'max_depth': 4, 'max_...         0.894505   \n",
       "\n",
       "    rank_test_score  split0_test_score  split1_test_score  split2_test_score  \n",
       "0                19           0.869565           0.913043           0.804348  \n",
       "1                19           0.869565           0.913043           0.804348  \n",
       "2                19           0.869565           0.913043           0.804348  \n",
       "3                18           0.869565           0.913043           0.826087  \n",
       "4                11           0.847826           0.913043           0.869565  \n",
       "5                11           0.847826           0.913043           0.869565  \n",
       "6                11           0.847826           0.913043           0.869565  \n",
       "7                 5           0.891304           0.956522           0.847826  \n",
       "8                 2           0.891304           0.934783           0.869565  \n",
       "9                 2           0.891304           0.934783           0.869565  \n",
       "10                2           0.891304           0.934783           0.869565  \n",
       "11                1           0.891304           0.934783           0.869565  \n",
       "12               14           0.869565           0.913043           0.804348  \n",
       "13               14           0.869565           0.913043           0.804348  \n",
       "14               14           0.869565           0.913043           0.804348  \n",
       "15               14           0.891304           0.913043           0.804348  \n",
       "16               22           0.869565           0.913043           0.804348  \n",
       "17               22           0.869565           0.913043           0.804348  \n",
       "18               22           0.869565           0.913043           0.804348  \n",
       "19               10           0.891304           0.956522           0.847826  \n",
       "20                5           0.891304           0.934783           0.869565  \n",
       "21                5           0.891304           0.934783           0.869565  \n",
       "22                5           0.891304           0.934783           0.869565  \n",
       "23                5           0.891304           0.934783           0.869565  "
      ]
     },
     "execution_count": 89,
     "metadata": {},
     "output_type": "execute_result"
    }
   ],
   "source": [
    "scores_df[['params', 'mean_test_score','rank_test_score','split0_test_score','split1_test_score','split2_test_score']]"
   ]
  },
  {
   "cell_type": "code",
   "execution_count": 90,
   "metadata": {},
   "outputs": [
    {
     "name": "stdout",
     "output_type": "stream",
     "text": [
      "GridSearchCV 최적 파라미터:  {'criterion': 'gini', 'max_depth': 4, 'max_features': None}\n",
      "GridSearchCV 최고 정확도: 0.8989\n"
     ]
    }
   ],
   "source": [
    "print('GridSearchCV 최적 파라미터: ', grid_rf.best_params_)\n",
    "print('GridSearchCV 최고 정확도: {0:.4f}'.format(grid_rf.best_score_))"
   ]
  },
  {
   "cell_type": "markdown",
   "metadata": {},
   "source": [
    "#### 3) 최종적으로 최적의 파라미터로 튜닝된 모델로 score를 산출해 주세요!"
   ]
  },
  {
   "cell_type": "code",
   "execution_count": 91,
   "metadata": {},
   "outputs": [
    {
     "name": "stdout",
     "output_type": "stream",
     "text": [
      "테스트 데이터 세트 정확도:  0.8947\n"
     ]
    }
   ],
   "source": [
    "estimator = grid_rf.best_estimator_\n",
    "\n",
    "pred = estimator.predict(X_test)\n",
    "print ('테스트 데이터 세트 정확도: {0: .4f}'.format(accuracy_score(y_test, pred)))"
   ]
  }
 ],
 "metadata": {
  "kernelspec": {
   "display_name": "Python 3",
   "language": "python",
   "name": "python3"
  },
  "language_info": {
   "codemirror_mode": {
    "name": "ipython",
    "version": 3
   },
   "file_extension": ".py",
   "mimetype": "text/x-python",
   "name": "python",
   "nbconvert_exporter": "python",
   "pygments_lexer": "ipython3",
   "version": "3.6.8"
  }
 },
 "nbformat": 4,
 "nbformat_minor": 2
}
